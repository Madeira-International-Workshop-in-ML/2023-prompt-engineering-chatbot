{
  "cells": [
    {
      "cell_type": "markdown",
      "metadata": {
        "id": "view-in-github",
        "colab_type": "text"
      },
      "source": [
        "<a href=\"https://colab.research.google.com/github/Dntfreitas/2023-prompt-engineering-chatbot/blob/main/chatbot.ipynb\" target=\"_parent\"><img src=\"https://colab.research.google.com/assets/colab-badge.svg\" alt=\"Open In Colab\"/></a>"
      ]
    },
    {
      "cell_type": "markdown",
      "id": "5f60d9bb1bc5cdcd",
      "metadata": {
        "id": "5f60d9bb1bc5cdcd"
      },
      "source": [
        "# Chatbot with OpenAI\n",
        "\n",
        "In this notebook, we are going to implement, step-by-step, a chatbot using the OpenAI API.\n",
        "\n",
        "Let's start by installing the required libraries."
      ]
    },
    {
      "cell_type": "code",
      "execution_count": 1,
      "outputs": [
        {
          "output_type": "stream",
          "name": "stdout",
          "text": [
            "Requirement already satisfied: openai in /usr/local/lib/python3.10/dist-packages (0.28.0)\n",
            "Requirement already satisfied: requests>=2.20 in /usr/local/lib/python3.10/dist-packages (from openai) (2.31.0)\n",
            "Requirement already satisfied: tqdm in /usr/local/lib/python3.10/dist-packages (from openai) (4.66.1)\n",
            "Requirement already satisfied: aiohttp in /usr/local/lib/python3.10/dist-packages (from openai) (3.8.5)\n",
            "Requirement already satisfied: charset-normalizer<4,>=2 in /usr/local/lib/python3.10/dist-packages (from requests>=2.20->openai) (3.2.0)\n",
            "Requirement already satisfied: idna<4,>=2.5 in /usr/local/lib/python3.10/dist-packages (from requests>=2.20->openai) (3.4)\n",
            "Requirement already satisfied: urllib3<3,>=1.21.1 in /usr/local/lib/python3.10/dist-packages (from requests>=2.20->openai) (2.0.4)\n",
            "Requirement already satisfied: certifi>=2017.4.17 in /usr/local/lib/python3.10/dist-packages (from requests>=2.20->openai) (2023.7.22)\n",
            "Requirement already satisfied: attrs>=17.3.0 in /usr/local/lib/python3.10/dist-packages (from aiohttp->openai) (23.1.0)\n",
            "Requirement already satisfied: multidict<7.0,>=4.5 in /usr/local/lib/python3.10/dist-packages (from aiohttp->openai) (6.0.4)\n",
            "Requirement already satisfied: async-timeout<5.0,>=4.0.0a3 in /usr/local/lib/python3.10/dist-packages (from aiohttp->openai) (4.0.3)\n",
            "Requirement already satisfied: yarl<2.0,>=1.0 in /usr/local/lib/python3.10/dist-packages (from aiohttp->openai) (1.9.2)\n",
            "Requirement already satisfied: frozenlist>=1.1.1 in /usr/local/lib/python3.10/dist-packages (from aiohttp->openai) (1.4.0)\n",
            "Requirement already satisfied: aiosignal>=1.1.2 in /usr/local/lib/python3.10/dist-packages (from aiohttp->openai) (1.3.1)\n",
            "Requirement already satisfied: gradio in /usr/local/lib/python3.10/dist-packages (3.42.0)\n",
            "Requirement already satisfied: aiofiles<24.0,>=22.0 in /usr/local/lib/python3.10/dist-packages (from gradio) (23.2.1)\n",
            "Requirement already satisfied: altair<6.0,>=4.2.0 in /usr/local/lib/python3.10/dist-packages (from gradio) (4.2.2)\n",
            "Requirement already satisfied: fastapi in /usr/local/lib/python3.10/dist-packages (from gradio) (0.103.1)\n",
            "Requirement already satisfied: ffmpy in /usr/local/lib/python3.10/dist-packages (from gradio) (0.3.1)\n",
            "Requirement already satisfied: gradio-client==0.5.0 in /usr/local/lib/python3.10/dist-packages (from gradio) (0.5.0)\n",
            "Requirement already satisfied: httpx in /usr/local/lib/python3.10/dist-packages (from gradio) (0.24.1)\n",
            "Requirement already satisfied: huggingface-hub>=0.14.0 in /usr/local/lib/python3.10/dist-packages (from gradio) (0.16.4)\n",
            "Requirement already satisfied: importlib-resources<7.0,>=1.3 in /usr/local/lib/python3.10/dist-packages (from gradio) (6.0.1)\n",
            "Requirement already satisfied: jinja2<4.0 in /usr/local/lib/python3.10/dist-packages (from gradio) (3.1.2)\n",
            "Requirement already satisfied: markupsafe~=2.0 in /usr/local/lib/python3.10/dist-packages (from gradio) (2.1.3)\n",
            "Requirement already satisfied: matplotlib~=3.0 in /usr/local/lib/python3.10/dist-packages (from gradio) (3.7.1)\n",
            "Requirement already satisfied: numpy~=1.0 in /usr/local/lib/python3.10/dist-packages (from gradio) (1.23.5)\n",
            "Requirement already satisfied: orjson~=3.0 in /usr/local/lib/python3.10/dist-packages (from gradio) (3.9.5)\n",
            "Requirement already satisfied: packaging in /usr/local/lib/python3.10/dist-packages (from gradio) (23.1)\n",
            "Requirement already satisfied: pandas<3.0,>=1.0 in /usr/local/lib/python3.10/dist-packages (from gradio) (1.5.3)\n",
            "Requirement already satisfied: pillow<11.0,>=8.0 in /usr/local/lib/python3.10/dist-packages (from gradio) (9.4.0)\n",
            "Requirement already satisfied: pydantic!=1.8,!=1.8.1,!=2.0.0,!=2.0.1,<3.0.0,>=1.7.4 in /usr/local/lib/python3.10/dist-packages (from gradio) (2.2.1)\n",
            "Requirement already satisfied: pydub in /usr/local/lib/python3.10/dist-packages (from gradio) (0.25.1)\n",
            "Requirement already satisfied: python-multipart in /usr/local/lib/python3.10/dist-packages (from gradio) (0.0.6)\n",
            "Requirement already satisfied: pyyaml<7.0,>=5.0 in /usr/local/lib/python3.10/dist-packages (from gradio) (6.0.1)\n",
            "Requirement already satisfied: requests~=2.0 in /usr/local/lib/python3.10/dist-packages (from gradio) (2.31.0)\n",
            "Requirement already satisfied: semantic-version~=2.0 in /usr/local/lib/python3.10/dist-packages (from gradio) (2.10.0)\n",
            "Requirement already satisfied: typing-extensions~=4.0 in /usr/local/lib/python3.10/dist-packages (from gradio) (4.7.1)\n",
            "Requirement already satisfied: uvicorn>=0.14.0 in /usr/local/lib/python3.10/dist-packages (from gradio) (0.23.2)\n",
            "Requirement already satisfied: websockets<12.0,>=10.0 in /usr/local/lib/python3.10/dist-packages (from gradio) (11.0.3)\n",
            "Requirement already satisfied: fsspec in /usr/local/lib/python3.10/dist-packages (from gradio-client==0.5.0->gradio) (2023.6.0)\n",
            "Requirement already satisfied: entrypoints in /usr/local/lib/python3.10/dist-packages (from altair<6.0,>=4.2.0->gradio) (0.4)\n",
            "Requirement already satisfied: jsonschema>=3.0 in /usr/local/lib/python3.10/dist-packages (from altair<6.0,>=4.2.0->gradio) (4.19.0)\n",
            "Requirement already satisfied: toolz in /usr/local/lib/python3.10/dist-packages (from altair<6.0,>=4.2.0->gradio) (0.12.0)\n",
            "Requirement already satisfied: filelock in /usr/local/lib/python3.10/dist-packages (from huggingface-hub>=0.14.0->gradio) (3.12.2)\n",
            "Requirement already satisfied: tqdm>=4.42.1 in /usr/local/lib/python3.10/dist-packages (from huggingface-hub>=0.14.0->gradio) (4.66.1)\n",
            "Requirement already satisfied: contourpy>=1.0.1 in /usr/local/lib/python3.10/dist-packages (from matplotlib~=3.0->gradio) (1.1.0)\n",
            "Requirement already satisfied: cycler>=0.10 in /usr/local/lib/python3.10/dist-packages (from matplotlib~=3.0->gradio) (0.11.0)\n",
            "Requirement already satisfied: fonttools>=4.22.0 in /usr/local/lib/python3.10/dist-packages (from matplotlib~=3.0->gradio) (4.42.1)\n",
            "Requirement already satisfied: kiwisolver>=1.0.1 in /usr/local/lib/python3.10/dist-packages (from matplotlib~=3.0->gradio) (1.4.4)\n",
            "Requirement already satisfied: pyparsing>=2.3.1 in /usr/local/lib/python3.10/dist-packages (from matplotlib~=3.0->gradio) (3.1.1)\n",
            "Requirement already satisfied: python-dateutil>=2.7 in /usr/local/lib/python3.10/dist-packages (from matplotlib~=3.0->gradio) (2.8.2)\n",
            "Requirement already satisfied: pytz>=2020.1 in /usr/local/lib/python3.10/dist-packages (from pandas<3.0,>=1.0->gradio) (2023.3)\n",
            "Requirement already satisfied: annotated-types>=0.4.0 in /usr/local/lib/python3.10/dist-packages (from pydantic!=1.8,!=1.8.1,!=2.0.0,!=2.0.1,<3.0.0,>=1.7.4->gradio) (0.5.0)\n",
            "Requirement already satisfied: pydantic-core==2.6.1 in /usr/local/lib/python3.10/dist-packages (from pydantic!=1.8,!=1.8.1,!=2.0.0,!=2.0.1,<3.0.0,>=1.7.4->gradio) (2.6.1)\n",
            "Requirement already satisfied: charset-normalizer<4,>=2 in /usr/local/lib/python3.10/dist-packages (from requests~=2.0->gradio) (3.2.0)\n",
            "Requirement already satisfied: idna<4,>=2.5 in /usr/local/lib/python3.10/dist-packages (from requests~=2.0->gradio) (3.4)\n",
            "Requirement already satisfied: urllib3<3,>=1.21.1 in /usr/local/lib/python3.10/dist-packages (from requests~=2.0->gradio) (2.0.4)\n",
            "Requirement already satisfied: certifi>=2017.4.17 in /usr/local/lib/python3.10/dist-packages (from requests~=2.0->gradio) (2023.7.22)\n",
            "Requirement already satisfied: click>=7.0 in /usr/local/lib/python3.10/dist-packages (from uvicorn>=0.14.0->gradio) (8.1.7)\n",
            "Requirement already satisfied: h11>=0.8 in /usr/local/lib/python3.10/dist-packages (from uvicorn>=0.14.0->gradio) (0.14.0)\n",
            "Requirement already satisfied: anyio<4.0.0,>=3.7.1 in /usr/local/lib/python3.10/dist-packages (from fastapi->gradio) (3.7.1)\n",
            "Requirement already satisfied: starlette<0.28.0,>=0.27.0 in /usr/local/lib/python3.10/dist-packages (from fastapi->gradio) (0.27.0)\n",
            "Requirement already satisfied: httpcore<0.18.0,>=0.15.0 in /usr/local/lib/python3.10/dist-packages (from httpx->gradio) (0.17.3)\n",
            "Requirement already satisfied: sniffio in /usr/local/lib/python3.10/dist-packages (from httpx->gradio) (1.3.0)\n",
            "Requirement already satisfied: exceptiongroup in /usr/local/lib/python3.10/dist-packages (from anyio<4.0.0,>=3.7.1->fastapi->gradio) (1.1.3)\n",
            "Requirement already satisfied: attrs>=22.2.0 in /usr/local/lib/python3.10/dist-packages (from jsonschema>=3.0->altair<6.0,>=4.2.0->gradio) (23.1.0)\n",
            "Requirement already satisfied: jsonschema-specifications>=2023.03.6 in /usr/local/lib/python3.10/dist-packages (from jsonschema>=3.0->altair<6.0,>=4.2.0->gradio) (2023.7.1)\n",
            "Requirement already satisfied: referencing>=0.28.4 in /usr/local/lib/python3.10/dist-packages (from jsonschema>=3.0->altair<6.0,>=4.2.0->gradio) (0.30.2)\n",
            "Requirement already satisfied: rpds-py>=0.7.1 in /usr/local/lib/python3.10/dist-packages (from jsonschema>=3.0->altair<6.0,>=4.2.0->gradio) (0.9.2)\n",
            "Requirement already satisfied: six>=1.5 in /usr/local/lib/python3.10/dist-packages (from python-dateutil>=2.7->matplotlib~=3.0->gradio) (1.16.0)\n",
            "Requirement already satisfied: python-dotenv in /usr/local/lib/python3.10/dist-packages (1.0.0)\n"
          ]
        }
      ],
      "source": [
        "!pip install openai\n",
        "!pip install gradio\n",
        "!pip install python-dotenv"
      ],
      "metadata": {
        "ExecuteTime": {
          "end_time": "2023-09-06T22:32:15.436590Z",
          "start_time": "2023-09-06T22:32:05.595091Z"
        },
        "colab": {
          "base_uri": "https://localhost:8080/"
        },
        "id": "8d6c5505326f0f54",
        "outputId": "4f01703c-6789-4f5e-de62-1b8266dce958"
      },
      "id": "8d6c5505326f0f54"
    },
    {
      "cell_type": "code",
      "execution_count": 2,
      "id": "25f2546d32227172",
      "metadata": {
        "ExecuteTime": {
          "end_time": "2023-09-06T22:32:15.452382Z",
          "start_time": "2023-09-06T22:32:15.438227Z"
        },
        "id": "25f2546d32227172"
      },
      "outputs": [],
      "source": [
        "from IPython.display import Markdown, display\n",
        "\n",
        "def printmd(string):\n",
        "    \"\"\"\n",
        "    Print markdown content in the notebook.\n",
        "    :param string: the markdown content\n",
        "    \"\"\"\n",
        "    display(Markdown(string))"
      ]
    },
    {
      "cell_type": "markdown",
      "id": "b20f04de903b364f",
      "metadata": {
        "id": "b20f04de903b364f"
      },
      "source": [
        "## Load the environment variables\n",
        "\n",
        "This step is similiar to what we implemented in the previous notebook. We will load the environment variables from the `.env` file."
      ]
    },
    {
      "cell_type": "code",
      "execution_count": 3,
      "id": "5406f4849ce6891e",
      "metadata": {
        "ExecuteTime": {
          "end_time": "2023-09-06T22:32:15.452555Z",
          "start_time": "2023-09-06T22:32:15.441031Z"
        },
        "id": "5406f4849ce6891e"
      },
      "outputs": [],
      "source": [
        "from dotenv import load_dotenv"
      ]
    },
    {
      "cell_type": "code",
      "execution_count": 4,
      "id": "ab1064995cb43e5b",
      "metadata": {
        "ExecuteTime": {
          "end_time": "2023-09-06T22:32:15.452615Z",
          "start_time": "2023-09-06T22:32:15.447097Z"
        },
        "id": "ab1064995cb43e5b"
      },
      "outputs": [],
      "source": [
        "_ = load_dotenv('.env')"
      ]
    },
    {
      "cell_type": "markdown",
      "id": "a13eb2b86ecbf7fc",
      "metadata": {
        "id": "a13eb2b86ecbf7fc"
      },
      "source": [
        "Now, let's load the OpenAI library, and set our API key."
      ]
    },
    {
      "cell_type": "code",
      "execution_count": 5,
      "id": "2e42271c720beadc",
      "metadata": {
        "ExecuteTime": {
          "end_time": "2023-09-06T22:32:16.437718Z",
          "start_time": "2023-09-06T22:32:15.451658Z"
        },
        "id": "2e42271c720beadc"
      },
      "outputs": [],
      "source": [
        "import openai\n",
        "import os"
      ]
    },
    {
      "cell_type": "markdown",
      "id": "e7e81b9b2dba42",
      "metadata": {
        "id": "e7e81b9b2dba42"
      },
      "source": [
        "## Let's change the completion function\n",
        "\n",
        "We will use a different completion function, but it is very similar to the one we used in the previous notebook."
      ]
    },
    {
      "cell_type": "code",
      "execution_count": 6,
      "id": "611c014f41093895",
      "metadata": {
        "ExecuteTime": {
          "end_time": "2023-09-06T22:32:16.438042Z",
          "start_time": "2023-09-06T22:32:16.425273Z"
        },
        "id": "611c014f41093895"
      },
      "outputs": [],
      "source": [
        "def get_completion(messages, model=\"gpt-3.5-turbo\", temperature=0):\n",
        "    \"\"\"\n",
        "    Get the completion from OpenAI API.\n",
        "    :param messages: the messages to be sent to the chatbot\n",
        "    :param model: the model to be used\n",
        "    :param temperature: the temperature of the completion\n",
        "    :return: the completion\n",
        "    \"\"\"\n",
        "    response = openai.ChatCompletion.create(\n",
        "        model=model,\n",
        "        messages=messages,\n",
        "        temperature=temperature\n",
        "    )\n",
        "    completion = response.choices[0].message[\"content\"]\n",
        "    return completion"
      ]
    },
    {
      "cell_type": "markdown",
      "id": "6f23e94a152fdd3d",
      "metadata": {
        "id": "6f23e94a152fdd3d"
      },
      "source": [
        "## Roles\n",
        "\n",
        "In OpenAI API, we can define the roles of the agents in the conversation.\n",
        "\n",
        "In our case, we will have three roles: `system`, `user`, and `assistant`. The `system` role is used to set the behaviour of the chatbot (i.e., the  personality). The `user` role is the user that is interacting with the chatbot.  The `assistant` role is the chatbot itself, i.e., the chat model.\n",
        "\n",
        "In ChatGPT web interface, your messages are the `user` messages, and then ChatGPT's are the `assistant` messages."
      ]
    },
    {
      "cell_type": "code",
      "execution_count": 7,
      "id": "5a3a21df238eeb66",
      "metadata": {
        "ExecuteTime": {
          "end_time": "2023-09-06T22:32:18.919994Z",
          "start_time": "2023-09-06T22:32:16.429694Z"
        },
        "colab": {
          "base_uri": "https://localhost:8080/",
          "height": 64
        },
        "id": "5a3a21df238eeb66",
        "outputId": "8c02eb40-9315-4bda-8841-46637bfd5c4b"
      },
      "outputs": [
        {
          "output_type": "display_data",
          "data": {
            "text/plain": [
              "<IPython.core.display.Markdown object>"
            ],
            "text/markdown": "An artificial neural network is a computer system that learns and makes decisions by mimicking the structure and function of the human brain. It consists of interconnected nodes, or \"neurons,\" that process and transmit information to solve complex problems."
          },
          "metadata": {}
        }
      ],
      "source": [
        "messages = [\n",
        "    {\"role\": \"system\", \"content\": \"You are a teacher...\"},\n",
        "    {\"role\": \"user\",\n",
        "     \"content\": \"Explain how an artificial neural network works. Don't use more than 50 words.\"}\n",
        "]\n",
        "\n",
        "printmd(get_completion(messages))"
      ]
    },
    {
      "cell_type": "markdown",
      "id": "1936f08abc8b2295",
      "metadata": {
        "id": "1936f08abc8b2295"
      },
      "source": [
        "_**Do it your self:**_ Try to change the `system` message to something else, and see how the chatbot behaves."
      ]
    },
    {
      "cell_type": "code",
      "execution_count": 8,
      "id": "8604937d1286b876",
      "metadata": {
        "ExecuteTime": {
          "end_time": "2023-09-06T22:32:20.883635Z",
          "start_time": "2023-09-06T22:32:18.919472Z"
        },
        "colab": {
          "base_uri": "https://localhost:8080/",
          "height": 64
        },
        "id": "8604937d1286b876",
        "outputId": "562274d8-3d21-4f32-821f-3b90751d8578"
      },
      "outputs": [
        {
          "output_type": "display_data",
          "data": {
            "text/plain": [
              "<IPython.core.display.Markdown object>"
            ],
            "text/markdown": "An artificial neural network is like a brain made by computers. It has lots of tiny parts called neurons that work together to solve problems. It learns by practicing and adjusting its connections until it gets better at what it does."
          },
          "metadata": {}
        }
      ],
      "source": [
        "messages = [\n",
        "    {\"role\": \"system\", \"content\": \"You are a children...\"},\n",
        "    {\"role\": \"user\",\n",
        "     \"content\": \"Explain how an artificial neural network works. Don't use more than 50 words.\"}\n",
        "]\n",
        "\n",
        "printmd(get_completion(messages))"
      ]
    },
    {
      "cell_type": "markdown",
      "id": "8260ee5ef798affe",
      "metadata": {
        "id": "8260ee5ef798affe"
      },
      "source": [
        "_**Do it your self:**_ Now, stop here and think how can we continue the conversation. I.e., how can we make the chatbot continuing the conversation? How can the chatbot understand the context of the conversation?"
      ]
    },
    {
      "cell_type": "code",
      "execution_count": 9,
      "id": "cd20e25d9a37fb9a",
      "metadata": {
        "ExecuteTime": {
          "end_time": "2023-09-06T22:32:24.009816Z",
          "start_time": "2023-09-06T22:32:20.886271Z"
        },
        "colab": {
          "base_uri": "https://localhost:8080/",
          "height": 81
        },
        "id": "cd20e25d9a37fb9a",
        "outputId": "9c1b4465-2444-4e7b-b110-e5e2991f8298"
      },
      "outputs": [
        {
          "output_type": "display_data",
          "data": {
            "text/plain": [
              "<IPython.core.display.Markdown object>"
            ],
            "text/markdown": "Sure! Neurons in an artificial neural network are like little decision-makers. They take in information from other neurons, process it, and then decide whether to send a signal to the next neuron or not. They do this by using mathematical functions that help them make decisions based on the input they receive. These functions can be simple or complex, depending on the task the neural network is trying to solve."
          },
          "metadata": {}
        }
      ],
      "source": [
        "messages = [\n",
        "    {\"role\": \"system\", \"content\": \"You are a children...\"},\n",
        "    {\"role\": \"user\",\n",
        "     \"content\": \"Explain how an artificial neural network works. Don't use more than 50 words.\"},\n",
        "    {\"role\": \"assistant\",\n",
        "     \"content\": \"An artificial neural network is like a brain made by computers. It has lots of tiny parts called neurons that work together to solve problems. It learns by practicing and adjusting its connections until it gets better at what it does.\"},\n",
        "    {\"role\": \"user\",\n",
        "     \"content\": \"Can you give me more information about the functions of the neurons.\"}\n",
        "]\n",
        "\n",
        "printmd(get_completion(messages))"
      ]
    },
    {
      "cell_type": "markdown",
      "id": "405b65fcfe5be775",
      "metadata": {
        "id": "405b65fcfe5be775"
      },
      "source": [
        "At this point, we can see what we need to do to make the chatbot continuing the conversation. We need to keep track of the conversation, and then use the last message to generate the next one. I.e., we need to keep track of the context of the conversation by storing the messages from the `user` and the `assistant`."
      ]
    },
    {
      "cell_type": "code",
      "execution_count": 10,
      "id": "18d7f576974a1434",
      "metadata": {
        "ExecuteTime": {
          "end_time": "2023-09-06T22:32:24.017063Z",
          "start_time": "2023-09-06T22:32:24.010941Z"
        },
        "id": "18d7f576974a1434"
      },
      "outputs": [],
      "source": [
        "context = [\n",
        "    {\"role\": \"system\", \"content\": \"You are an assitant...\"}\n",
        "]"
      ]
    },
    {
      "cell_type": "code",
      "execution_count": 11,
      "id": "e5492ab7c49f0ea1",
      "metadata": {
        "ExecuteTime": {
          "end_time": "2023-09-06T22:32:24.018268Z",
          "start_time": "2023-09-06T22:32:24.014523Z"
        },
        "id": "e5492ab7c49f0ea1"
      },
      "outputs": [],
      "source": [
        "def chat(prompt, history=None):\n",
        "    \"\"\"\n",
        "    Chat with the chatbot, and keep track of the context.\n",
        "    :param prompt: the prompt to be sent to the chatbot\n",
        "    :param history: dummy parameter for the gradio library\n",
        "    :return: the completion\n",
        "    \"\"\"\n",
        "    context.append({\"role\": \"assistant\", \"content\": prompt})\n",
        "    completion = get_completion(context)\n",
        "    context.append(\n",
        "        {\"role\": \"assistant\", \"content\": completion})\n",
        "    return completion"
      ]
    },
    {
      "cell_type": "code",
      "execution_count": 12,
      "id": "a94aa5fd7d45ce5a",
      "metadata": {
        "ExecuteTime": {
          "end_time": "2023-09-06T22:32:26.205537Z",
          "start_time": "2023-09-06T22:32:24.019518Z"
        },
        "colab": {
          "base_uri": "https://localhost:8080/",
          "height": 64
        },
        "id": "a94aa5fd7d45ce5a",
        "outputId": "17b89682-e3d7-402a-e16f-60c1e0c4b775"
      },
      "outputs": [
        {
          "output_type": "display_data",
          "data": {
            "text/plain": [
              "<IPython.core.display.Markdown object>"
            ],
            "text/markdown": "An artificial neural network is a computational model inspired by the structure and function of the human brain. It consists of interconnected nodes, or \"neurons,\" that process and transmit information. Through a process of learning and adjustment, the network can recognize patterns and make predictions."
          },
          "metadata": {}
        }
      ],
      "source": [
        "printmd(chat(\n",
        "    \"Explain how an artificial neural network works. Don't use more than 50 words.\"))"
      ]
    },
    {
      "cell_type": "code",
      "execution_count": 13,
      "id": "dfecaa25c557f9ce",
      "metadata": {
        "ExecuteTime": {
          "end_time": "2023-09-06T22:32:28.504909Z",
          "start_time": "2023-09-06T22:32:26.210385Z"
        },
        "colab": {
          "base_uri": "https://localhost:8080/",
          "height": 64
        },
        "id": "dfecaa25c557f9ce",
        "outputId": "c7224e99-e35d-4f1f-fbc9-deddb9cb1f1e"
      },
      "outputs": [
        {
          "output_type": "display_data",
          "data": {
            "text/plain": [
              "<IPython.core.display.Markdown object>"
            ],
            "text/markdown": "An artificial neural network is a computational model that mimics the structure and function of the human brain. It consists of interconnected nodes, or \"neurons,\" that process and transmit information. By learning from data, the network can recognize patterns and make predictions."
          },
          "metadata": {}
        }
      ],
      "source": [
        "printmd(chat(\"Hum... it's still not very clear.\"))"
      ]
    },
    {
      "cell_type": "code",
      "execution_count": 14,
      "id": "eafc69b2d6234771",
      "metadata": {
        "ExecuteTime": {
          "end_time": "2023-09-06T22:32:31.433440Z",
          "start_time": "2023-09-06T22:32:28.483158Z"
        },
        "colab": {
          "base_uri": "https://localhost:8080/",
          "height": 81
        },
        "id": "eafc69b2d6234771",
        "outputId": "3d85fde0-767b-41a3-cc7d-ac2168e29047"
      },
      "outputs": [
        {
          "output_type": "display_data",
          "data": {
            "text/plain": [
              "<IPython.core.display.Markdown object>"
            ],
            "text/markdown": "Certainly! In an artificial neural network, each neuron performs a simple mathematical operation on the input it receives. This operation typically involves multiplying the input by a weight, summing up the weighted inputs, and applying an activation function to determine the output of the neuron. The activation function introduces non-linearity to the network, allowing it to learn complex patterns and make more accurate predictions."
          },
          "metadata": {}
        }
      ],
      "source": [
        "printmd(chat(\"Can you give me more information about the functions of the neurons.\"))"
      ]
    },
    {
      "cell_type": "markdown",
      "id": "417566cbb37b88a5",
      "metadata": {
        "id": "417566cbb37b88a5"
      },
      "source": [
        "## Real-world example\n",
        "\n",
        "In this example, we are going to read a text file with the information about the AI summit, and then use the chatbot to answer questions about the text."
      ]
    },
    {
      "cell_type": "code",
      "execution_count": 15,
      "id": "e2b9af2051f51da4",
      "metadata": {
        "ExecuteTime": {
          "end_time": "2023-09-06T22:32:31.451847Z",
          "start_time": "2023-09-06T22:32:31.434288Z"
        },
        "id": "e2b9af2051f51da4"
      },
      "outputs": [],
      "source": [
        "with open('info.md', 'r') as file:\n",
        "    event_info = file.read()"
      ]
    },
    {
      "cell_type": "code",
      "execution_count": 16,
      "id": "d8caf53b510a7b6",
      "metadata": {
        "ExecuteTime": {
          "end_time": "2023-09-06T22:32:31.452154Z",
          "start_time": "2023-09-06T22:32:31.437816Z"
        },
        "id": "d8caf53b510a7b6"
      },
      "outputs": [],
      "source": [
        "context = [\n",
        "    {\"role\": \"system\",\n",
        "     \"content\": \"You are an organizer of the event, and you only reply to questions related to the event. Here is everything you need to know about the event: ```\" + event_info + \"```\"}\n",
        "]"
      ]
    },
    {
      "cell_type": "code",
      "execution_count": 17,
      "id": "db0b4f58afd49c39",
      "metadata": {
        "ExecuteTime": {
          "end_time": "2023-09-06T22:32:32.350178Z",
          "start_time": "2023-09-06T22:32:31.440291Z"
        },
        "colab": {
          "base_uri": "https://localhost:8080/",
          "height": 46
        },
        "id": "db0b4f58afd49c39",
        "outputId": "f69f742d-0ec0-4a30-9990-90ecc26c9b73"
      },
      "outputs": [
        {
          "output_type": "display_data",
          "data": {
            "text/plain": [
              "<IPython.core.display.Markdown object>"
            ],
            "text/markdown": "The name of the event is the AI Summit."
          },
          "metadata": {}
        }
      ],
      "source": [
        "printmd(chat(\"What is the name of the event?\"))"
      ]
    },
    {
      "cell_type": "code",
      "execution_count": 18,
      "id": "ea9ba6bbe3504cd5",
      "metadata": {
        "ExecuteTime": {
          "end_time": "2023-09-06T22:32:33.303419Z",
          "start_time": "2023-09-06T22:32:32.301975Z"
        },
        "colab": {
          "base_uri": "https://localhost:8080/",
          "height": 46
        },
        "id": "ea9ba6bbe3504cd5",
        "outputId": "ffb1fd11-ee8b-4162-ecd0-da50e481c1fd"
      },
      "outputs": [
        {
          "output_type": "display_data",
          "data": {
            "text/plain": [
              "<IPython.core.display.Markdown object>"
            ],
            "text/markdown": "The AI Summit will take place on September 13, 2023."
          },
          "metadata": {}
        }
      ],
      "source": [
        "printmd(chat(\"What is the date of the event?\"))"
      ]
    },
    {
      "cell_type": "code",
      "execution_count": 19,
      "id": "dd34b1c9a96a301",
      "metadata": {
        "ExecuteTime": {
          "end_time": "2023-09-06T22:32:35.354153Z",
          "start_time": "2023-09-06T22:32:33.296559Z"
        },
        "colab": {
          "base_uri": "https://localhost:8080/",
          "height": 122
        },
        "id": "dd34b1c9a96a301",
        "outputId": "7f610f31-c976-4a04-ff95-ace1901c965c"
      },
      "outputs": [
        {
          "output_type": "display_data",
          "data": {
            "text/plain": [
              "<IPython.core.display.Markdown object>"
            ],
            "text/markdown": "The names of the speakers are:\n\n- João Santos from Microsoft\n- David Jardim from Oracle\n- Eliano Marques from Tracer\n- Adi Mazor Kario from Invincible Innovation"
          },
          "metadata": {}
        }
      ],
      "source": [
        "printmd(chat(\"What are the names of the speakers?\"))"
      ]
    },
    {
      "cell_type": "code",
      "execution_count": 20,
      "id": "303e0244124fbbe5",
      "metadata": {
        "ExecuteTime": {
          "end_time": "2023-09-06T22:32:36.335638Z",
          "start_time": "2023-09-06T22:32:35.356377Z"
        },
        "colab": {
          "base_uri": "https://localhost:8080/",
          "height": 46
        },
        "id": "303e0244124fbbe5",
        "outputId": "aa110873-7899-402a-a960-8d7e254a9d11"
      },
      "outputs": [
        {
          "output_type": "display_data",
          "data": {
            "text/plain": [
              "<IPython.core.display.Markdown object>"
            ],
            "text/markdown": "The event will take place at Museu da Imprensa, the Press Museum."
          },
          "metadata": {}
        }
      ],
      "source": [
        "printmd(chat(\"What is the name of the venue?\"))"
      ]
    },
    {
      "cell_type": "code",
      "execution_count": 21,
      "id": "2edafa931aa9bc57",
      "metadata": {
        "ExecuteTime": {
          "end_time": "2023-09-06T22:32:37.034377Z",
          "start_time": "2023-09-06T22:32:36.337803Z"
        },
        "colab": {
          "base_uri": "https://localhost:8080/",
          "height": 46
        },
        "id": "2edafa931aa9bc57",
        "outputId": "46b4533d-f46a-4dad-ee4a-c69cc3c06b3c"
      },
      "outputs": [
        {
          "output_type": "display_data",
          "data": {
            "text/plain": [
              "<IPython.core.display.Markdown object>"
            ],
            "text/markdown": "Yes, registration for the event is free."
          },
          "metadata": {}
        }
      ],
      "source": [
        "printmd(chat(\"Is the event free?\"))"
      ]
    },
    {
      "cell_type": "code",
      "execution_count": 22,
      "id": "31f809355c6cc81b",
      "metadata": {
        "ExecuteTime": {
          "end_time": "2023-09-06T22:32:39.085830Z",
          "start_time": "2023-09-06T22:32:37.036209Z"
        },
        "colab": {
          "base_uri": "https://localhost:8080/",
          "height": 64
        },
        "id": "31f809355c6cc81b",
        "outputId": "3c3586a9-81b6-4887-bb84-c8338b861345"
      },
      "outputs": [
        {
          "output_type": "display_data",
          "data": {
            "text/plain": [
              "<IPython.core.display.Markdown object>"
            ],
            "text/markdown": "Yes, the AI Summit is open to everyone, including beginners in AI. It is designed for professionals, researchers, students, entrepreneurs, technology fans, industry experts, government officials, and anyone else interested in Artificial Intelligence."
          },
          "metadata": {}
        }
      ],
      "source": [
        "printmd(chat(\"Is it suitable for beginners in AI?\"))"
      ]
    },
    {
      "cell_type": "code",
      "execution_count": 23,
      "id": "a5a07088313e2e91",
      "metadata": {
        "ExecuteTime": {
          "end_time": "2023-09-06T22:32:40.218135Z",
          "start_time": "2023-09-06T22:32:39.084448Z"
        },
        "colab": {
          "base_uri": "https://localhost:8080/",
          "height": 46
        },
        "id": "a5a07088313e2e91",
        "outputId": "b5bf2b30-981e-4485-cd77-f2d741c80aa8"
      },
      "outputs": [
        {
          "output_type": "display_data",
          "data": {
            "text/plain": [
              "<IPython.core.display.Markdown object>"
            ],
            "text/markdown": "The coffee break will take place at 16:00 during the event."
          },
          "metadata": {}
        }
      ],
      "source": [
        "printmd(chat(\"When is the coffee break?\"))"
      ]
    },
    {
      "cell_type": "markdown",
      "id": "1027a66dbc6ad269",
      "metadata": {
        "id": "1027a66dbc6ad269"
      },
      "source": [
        "## Chatbot web app"
      ]
    },
    {
      "cell_type": "markdown",
      "id": "da850f98d7f9153c",
      "metadata": {
        "id": "da850f98d7f9153c"
      },
      "source": [
        "Using the gradio library, we can create a simple web app for our chatbot."
      ]
    },
    {
      "cell_type": "code",
      "execution_count": 24,
      "id": "9f0bd0f0e3221528",
      "metadata": {
        "ExecuteTime": {
          "end_time": "2023-09-06T22:32:41.318222Z",
          "start_time": "2023-09-06T22:32:40.210968Z"
        },
        "id": "9f0bd0f0e3221528"
      },
      "outputs": [],
      "source": [
        "import gradio as gr"
      ]
    },
    {
      "cell_type": "code",
      "execution_count": 25,
      "id": "85d51197b485d9a8",
      "metadata": {
        "ExecuteTime": {
          "end_time": "2023-09-06T22:32:49.917139Z",
          "start_time": "2023-09-06T22:32:41.317693Z"
        },
        "colab": {
          "base_uri": "https://localhost:8080/",
          "height": 591
        },
        "id": "85d51197b485d9a8",
        "outputId": "1ca926ef-d697-462c-8bab-c71699d78d68"
      },
      "outputs": [
        {
          "output_type": "stream",
          "name": "stdout",
          "text": [
            "Colab notebook detected. To show errors in colab notebook, set debug=True in launch()\n",
            "Running on public URL: https://a1f690c43ad066499c.gradio.live\n",
            "\n",
            "This share link expires in 72 hours. For free permanent hosting and GPU upgrades, run `gradio deploy` from Terminal to deploy to Spaces (https://huggingface.co/spaces)\n"
          ]
        },
        {
          "output_type": "display_data",
          "data": {
            "text/plain": [
              "<IPython.core.display.HTML object>"
            ],
            "text/html": [
              "<div><iframe src=\"https://a1f690c43ad066499c.gradio.live\" width=\"100%\" height=\"500\" allow=\"autoplay; camera; microphone; clipboard-read; clipboard-write;\" frameborder=\"0\" allowfullscreen></iframe></div>"
            ]
          },
          "metadata": {}
        },
        {
          "output_type": "execute_result",
          "data": {
            "text/plain": []
          },
          "metadata": {},
          "execution_count": 25
        }
      ],
      "source": [
        "gr.ChatInterface(\n",
        "    chat,\n",
        "    chatbot=gr.Chatbot(),\n",
        "    title=\"Welcome to the AI Summit chatbot\",\n",
        "    description=\"Ask me a question about the event...\",\n",
        "    theme=\"monochrome\",\n",
        "    examples=['how much does it cost?', 'what is the date of the event?',\n",
        "              'what is the name of the venue?']\n",
        ").launch(share=True)"
      ]
    }
  ],
  "metadata": {
    "kernelspec": {
      "display_name": "Python 3 (ipykernel)",
      "language": "python",
      "name": "python3"
    },
    "language_info": {
      "codemirror_mode": {
        "name": "ipython",
        "version": 3
      },
      "file_extension": ".py",
      "mimetype": "text/x-python",
      "name": "python",
      "nbconvert_exporter": "python",
      "pygments_lexer": "ipython3",
      "version": "3.11.3"
    },
    "colab": {
      "provenance": [],
      "include_colab_link": true
    }
  },
  "nbformat": 4,
  "nbformat_minor": 5
}