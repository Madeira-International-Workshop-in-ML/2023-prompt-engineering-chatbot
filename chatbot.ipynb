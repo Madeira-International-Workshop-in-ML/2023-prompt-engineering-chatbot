{
  "cells": [
    {
      "cell_type": "markdown",
      "metadata": {
        "id": "view-in-github",
        "colab_type": "text"
      },
      "source": [
        "<a href=\"https://colab.research.google.com/github/Madeira-International-Workshop-in-ML/2023-prompt-engineering-chatbot/blob/master/chatbot.ipynb\" target=\"_parent\"><img src=\"https://colab.research.google.com/assets/colab-badge.svg\" alt=\"Open In Colab\"/></a>"
      ]
    },
    {
      "cell_type": "markdown",
      "id": "5f60d9bb1bc5cdcd",
      "metadata": {
        "id": "5f60d9bb1bc5cdcd"
      },
      "source": [
        "# Chatbot with OpenAI\n",
        "\n",
        "In this notebook, we are going to implement, step-by-step, a chatbot using the OpenAI API.\n",
        "\n",
        "Let's start by installing the required libraries."
      ]
    },
    {
      "cell_type": "code",
      "execution_count": null,
      "outputs": [],
      "source": [
        "!pip install openai\n",
        "!pip install gradio\n",
        "!pip install python-dotenv"
      ],
      "metadata": {
        "ExecuteTime": {
          "end_time": "2023-09-06T22:32:15.436590Z",
          "start_time": "2023-09-06T22:32:05.595091Z"
        },
        "id": "8d6c5505326f0f54"
      },
      "id": "8d6c5505326f0f54"
    },
    {
      "cell_type": "code",
      "execution_count": null,
      "id": "25f2546d32227172",
      "metadata": {
        "id": "25f2546d32227172",
        "ExecuteTime": {
          "end_time": "2023-09-10T18:23:26.459751Z",
          "start_time": "2023-09-10T18:23:26.457028Z"
        }
      },
      "outputs": [],
      "source": [
        "from IPython.display import Markdown, display\n",
        "\n",
        "def printmd(string):\n",
        "    \"\"\"\n",
        "    Print markdown content in the notebook.\n",
        "    :param string: the markdown content\n",
        "    \"\"\"\n",
        "    display(Markdown(string))"
      ]
    },
    {
      "cell_type": "markdown",
      "id": "b20f04de903b364f",
      "metadata": {
        "id": "b20f04de903b364f"
      },
      "source": [
        "## Load the environment variables\n",
        "\n",
        "This step is similiar to what we implemented in the previous notebook. We will load the environment variables from the `.env` file."
      ]
    },
    {
      "cell_type": "code",
      "execution_count": null,
      "id": "5406f4849ce6891e",
      "metadata": {
        "ExecuteTime": {
          "end_time": "2023-09-06T22:32:15.452555Z",
          "start_time": "2023-09-06T22:32:15.441031Z"
        },
        "id": "5406f4849ce6891e"
      },
      "outputs": [],
      "source": [
        "from dotenv import load_dotenv"
      ]
    },
    {
      "cell_type": "code",
      "execution_count": null,
      "id": "ab1064995cb43e5b",
      "metadata": {
        "ExecuteTime": {
          "end_time": "2023-09-06T22:32:15.452615Z",
          "start_time": "2023-09-06T22:32:15.447097Z"
        },
        "id": "ab1064995cb43e5b"
      },
      "outputs": [],
      "source": [
        "_ = load_dotenv('.env')"
      ]
    },
    {
      "cell_type": "markdown",
      "id": "a13eb2b86ecbf7fc",
      "metadata": {
        "id": "a13eb2b86ecbf7fc"
      },
      "source": [
        "Now, let's load the OpenAI library, and set our API key."
      ]
    },
    {
      "cell_type": "code",
      "execution_count": null,
      "id": "2e42271c720beadc",
      "metadata": {
        "ExecuteTime": {
          "end_time": "2023-09-06T22:32:16.437718Z",
          "start_time": "2023-09-06T22:32:15.451658Z"
        },
        "id": "2e42271c720beadc"
      },
      "outputs": [],
      "source": [
        "import openai\n",
        "import os"
      ]
    },
    {
      "cell_type": "code",
      "source": [
        "openai.api_key = os.getenv('OPENAI_API_KEY')"
      ],
      "metadata": {
        "id": "mSuD0VTA6Vjl"
      },
      "id": "mSuD0VTA6Vjl",
      "execution_count": null,
      "outputs": []
    },
    {
      "cell_type": "markdown",
      "id": "e7e81b9b2dba42",
      "metadata": {
        "id": "e7e81b9b2dba42"
      },
      "source": [
        "## Let's change the completion function\n",
        "\n",
        "We will use a different completion function, but it is very similar to the one we used in the previous notebook."
      ]
    },
    {
      "cell_type": "code",
      "execution_count": null,
      "id": "611c014f41093895",
      "metadata": {
        "ExecuteTime": {
          "end_time": "2023-09-06T22:32:16.438042Z",
          "start_time": "2023-09-06T22:32:16.425273Z"
        },
        "id": "611c014f41093895"
      },
      "outputs": [],
      "source": [
        "def get_completion(messages, model=\"gpt-3.5-turbo\", temperature=0):\n",
        "    \"\"\"\n",
        "    Get the completion from OpenAI API.\n",
        "    :param messages: the messages to be sent to the chatbot\n",
        "    :param model: the model to be used\n",
        "    :param temperature: the temperature of the completion\n",
        "    :return: the completion\n",
        "    \"\"\"\n",
        "    response = openai.ChatCompletion.create(\n",
        "        model=model,\n",
        "        messages=messages,\n",
        "        temperature=temperature\n",
        "    )\n",
        "    completion = response.choices[0].message[\"content\"]\n",
        "    return completion"
      ]
    },
    {
      "cell_type": "markdown",
      "id": "6f23e94a152fdd3d",
      "metadata": {
        "id": "6f23e94a152fdd3d"
      },
      "source": [
        "## Roles\n",
        "\n",
        "In OpenAI API, we can define the roles of the agents in the conversation.\n",
        "\n",
        "In our case, we will have three roles: `system`, `user`, and `assistant`. The `system` role is used to set the behaviour of the chatbot (i.e., the  personality). The `user` role is the user that is interacting with the chatbot.  The `assistant` role is the chatbot itself, i.e., the chat model.\n",
        "\n",
        "In ChatGPT web interface, your messages are the `user` messages, and then ChatGPT's are the `assistant` messages."
      ]
    },
    {
      "cell_type": "code",
      "execution_count": null,
      "id": "5a3a21df238eeb66",
      "metadata": {
        "ExecuteTime": {
          "end_time": "2023-09-06T22:32:18.919994Z",
          "start_time": "2023-09-06T22:32:16.429694Z"
        },
        "id": "5a3a21df238eeb66"
      },
      "outputs": [],
      "source": [
        "messages = [\n",
        "    {\"role\": \"system\", \"content\": \"You are a teacher...\"},\n",
        "    {\"role\": \"user\",\n",
        "     \"content\": \"Explain how an artificial neural network works. Don't use more than 50 words.\"}\n",
        "]\n",
        "\n",
        "printmd(get_completion(messages))"
      ]
    },
    {
      "cell_type": "markdown",
      "id": "1936f08abc8b2295",
      "metadata": {
        "id": "1936f08abc8b2295"
      },
      "source": [
        "_**Do it your self:**_ Try to change the `system` message to something else, and see how the chatbot behaves."
      ]
    },
    {
      "cell_type": "code",
      "execution_count": null,
      "id": "8604937d1286b876",
      "metadata": {
        "ExecuteTime": {
          "end_time": "2023-09-06T22:32:20.883635Z",
          "start_time": "2023-09-06T22:32:18.919472Z"
        },
        "id": "8604937d1286b876"
      },
      "outputs": [],
      "source": [
        "messages = [\n",
        "    {\"role\": \"system\", \"content\": \"You are a children...\"},\n",
        "    {\"role\": \"user\",\n",
        "     \"content\": \"Explain how an artificial neural network works. Don't use more than 50 words.\"}\n",
        "]\n",
        "\n",
        "printmd(get_completion(messages))"
      ]
    },
    {
      "cell_type": "markdown",
      "id": "8260ee5ef798affe",
      "metadata": {
        "id": "8260ee5ef798affe"
      },
      "source": [
        "_**Do it your self:**_ Now, stop here and think how can we continue the conversation. I.e., how can we make the chatbot continuing the conversation? How can the chatbot understand the context of the conversation?"
      ]
    },
    {
      "cell_type": "code",
      "execution_count": null,
      "id": "cd20e25d9a37fb9a",
      "metadata": {
        "ExecuteTime": {
          "end_time": "2023-09-06T22:32:24.009816Z",
          "start_time": "2023-09-06T22:32:20.886271Z"
        },
        "id": "cd20e25d9a37fb9a"
      },
      "outputs": [],
      "source": [
        "messages = [\n",
        "    {\"role\": \"system\", \"content\": \"You are a children...\"},\n",
        "    {\"role\": \"user\",\n",
        "     \"content\": \"Explain how an artificial neural network works. Don't use more than 50 words.\"},\n",
        "    {\"role\": \"assistant\",\n",
        "     \"content\": \"An artificial neural network is like a brain made by computers. It has lots of tiny parts called neurons that work together to solve problems. It learns by practicing and adjusting its connections until it gets better at what it does.\"},\n",
        "    {\"role\": \"user\",\n",
        "     \"content\": \"Can you give me more information about the functions of the neurons.\"}\n",
        "]\n",
        "\n",
        "printmd(get_completion(messages))"
      ]
    },
    {
      "cell_type": "markdown",
      "id": "405b65fcfe5be775",
      "metadata": {
        "id": "405b65fcfe5be775"
      },
      "source": [
        "At this point, we can see what we need to do to make the chatbot continuing the conversation. We need to keep track of the conversation, and then use the last message to generate the next one. I.e., we need to keep track of the context of the conversation by storing the messages from the `user` and the `assistant`."
      ]
    },
    {
      "cell_type": "code",
      "execution_count": null,
      "id": "18d7f576974a1434",
      "metadata": {
        "ExecuteTime": {
          "end_time": "2023-09-06T22:32:24.017063Z",
          "start_time": "2023-09-06T22:32:24.010941Z"
        },
        "id": "18d7f576974a1434"
      },
      "outputs": [],
      "source": [
        "context = [\n",
        "    {\"role\": \"system\", \"content\": \"You are an assitant...\"}\n",
        "]"
      ]
    },
    {
      "cell_type": "code",
      "execution_count": null,
      "id": "e5492ab7c49f0ea1",
      "metadata": {
        "ExecuteTime": {
          "end_time": "2023-09-06T22:32:24.018268Z",
          "start_time": "2023-09-06T22:32:24.014523Z"
        },
        "id": "e5492ab7c49f0ea1"
      },
      "outputs": [],
      "source": [
        "def chat(prompt, history=None):\n",
        "    \"\"\"\n",
        "    Chat with the chatbot, and keep track of the context.\n",
        "    :param prompt: the prompt to be sent to the chatbot\n",
        "    :param history: dummy parameter for the gradio library\n",
        "    :return: the completion\n",
        "    \"\"\"\n",
        "    context.append({\"role\": \"assistant\", \"content\": prompt})\n",
        "    completion = get_completion(context)\n",
        "    context.append(\n",
        "        {\"role\": \"assistant\", \"content\": completion})\n",
        "    return completion"
      ]
    },
    {
      "cell_type": "code",
      "execution_count": null,
      "id": "a94aa5fd7d45ce5a",
      "metadata": {
        "ExecuteTime": {
          "end_time": "2023-09-06T22:32:26.205537Z",
          "start_time": "2023-09-06T22:32:24.019518Z"
        },
        "id": "a94aa5fd7d45ce5a"
      },
      "outputs": [],
      "source": [
        "printmd(chat(\n",
        "    \"Explain how an artificial neural network works. Don't use more than 50 words.\"))"
      ]
    },
    {
      "cell_type": "code",
      "execution_count": null,
      "id": "dfecaa25c557f9ce",
      "metadata": {
        "ExecuteTime": {
          "end_time": "2023-09-06T22:32:28.504909Z",
          "start_time": "2023-09-06T22:32:26.210385Z"
        },
        "id": "dfecaa25c557f9ce"
      },
      "outputs": [],
      "source": [
        "printmd(chat(\"Hum... it's still not very clear.\"))"
      ]
    },
    {
      "cell_type": "code",
      "execution_count": null,
      "id": "eafc69b2d6234771",
      "metadata": {
        "ExecuteTime": {
          "end_time": "2023-09-06T22:32:31.433440Z",
          "start_time": "2023-09-06T22:32:28.483158Z"
        },
        "id": "eafc69b2d6234771"
      },
      "outputs": [],
      "source": [
        "printmd(chat(\"Can you give me more information about the functions of the neurons.\"))"
      ]
    },
    {
      "cell_type": "markdown",
      "id": "417566cbb37b88a5",
      "metadata": {
        "id": "417566cbb37b88a5"
      },
      "source": [
        "## Real-world example\n",
        "\n",
        "In this example, we are going to read a text file with the information about the AI summit, and then use the chatbot to answer questions about the text."
      ]
    },
    {
      "cell_type": "code",
      "execution_count": null,
      "id": "e2b9af2051f51da4",
      "metadata": {
        "ExecuteTime": {
          "end_time": "2023-09-06T22:32:31.451847Z",
          "start_time": "2023-09-06T22:32:31.434288Z"
        },
        "id": "e2b9af2051f51da4"
      },
      "outputs": [],
      "source": [
        "with open('info.md', 'r') as file:\n",
        "    event_info = file.read()"
      ]
    },
    {
      "cell_type": "code",
      "execution_count": null,
      "id": "d8caf53b510a7b6",
      "metadata": {
        "ExecuteTime": {
          "end_time": "2023-09-06T22:32:31.452154Z",
          "start_time": "2023-09-06T22:32:31.437816Z"
        },
        "id": "d8caf53b510a7b6"
      },
      "outputs": [],
      "source": [
        "context = [\n",
        "    {\"role\": \"system\",\n",
        "     \"content\": \"You are an organizer of the event, and you only reply to questions related to the event. Here is everything you need to know about the event: ```\" + event_info + \"```\"}\n",
        "]"
      ]
    },
    {
      "cell_type": "code",
      "execution_count": null,
      "id": "db0b4f58afd49c39",
      "metadata": {
        "ExecuteTime": {
          "end_time": "2023-09-06T22:32:32.350178Z",
          "start_time": "2023-09-06T22:32:31.440291Z"
        },
        "id": "db0b4f58afd49c39"
      },
      "outputs": [],
      "source": [
        "printmd(chat(\"What is the name of the event?\"))"
      ]
    },
    {
      "cell_type": "code",
      "execution_count": null,
      "id": "ea9ba6bbe3504cd5",
      "metadata": {
        "ExecuteTime": {
          "end_time": "2023-09-06T22:32:33.303419Z",
          "start_time": "2023-09-06T22:32:32.301975Z"
        },
        "id": "ea9ba6bbe3504cd5"
      },
      "outputs": [],
      "source": [
        "printmd(chat(\"What is the date of the event?\"))"
      ]
    },
    {
      "cell_type": "code",
      "execution_count": null,
      "id": "dd34b1c9a96a301",
      "metadata": {
        "ExecuteTime": {
          "end_time": "2023-09-06T22:32:35.354153Z",
          "start_time": "2023-09-06T22:32:33.296559Z"
        },
        "id": "dd34b1c9a96a301"
      },
      "outputs": [],
      "source": [
        "printmd(chat(\"What are the names of the speakers?\"))"
      ]
    },
    {
      "cell_type": "code",
      "execution_count": null,
      "id": "303e0244124fbbe5",
      "metadata": {
        "ExecuteTime": {
          "end_time": "2023-09-06T22:32:36.335638Z",
          "start_time": "2023-09-06T22:32:35.356377Z"
        },
        "id": "303e0244124fbbe5"
      },
      "outputs": [],
      "source": [
        "printmd(chat(\"What is the name of the venue?\"))"
      ]
    },
    {
      "cell_type": "code",
      "execution_count": null,
      "id": "2edafa931aa9bc57",
      "metadata": {
        "ExecuteTime": {
          "end_time": "2023-09-06T22:32:37.034377Z",
          "start_time": "2023-09-06T22:32:36.337803Z"
        },
        "id": "2edafa931aa9bc57"
      },
      "outputs": [],
      "source": [
        "printmd(chat(\"Is the event free?\"))"
      ]
    },
    {
      "cell_type": "code",
      "execution_count": null,
      "id": "31f809355c6cc81b",
      "metadata": {
        "ExecuteTime": {
          "end_time": "2023-09-06T22:32:39.085830Z",
          "start_time": "2023-09-06T22:32:37.036209Z"
        },
        "id": "31f809355c6cc81b"
      },
      "outputs": [],
      "source": [
        "printmd(chat(\"Is it suitable for beginners in AI?\"))"
      ]
    },
    {
      "cell_type": "code",
      "execution_count": null,
      "id": "a5a07088313e2e91",
      "metadata": {
        "ExecuteTime": {
          "end_time": "2023-09-06T22:32:40.218135Z",
          "start_time": "2023-09-06T22:32:39.084448Z"
        },
        "id": "a5a07088313e2e91"
      },
      "outputs": [],
      "source": [
        "printmd(chat(\"When is the coffee break?\"))"
      ]
    },
    {
      "cell_type": "markdown",
      "id": "1027a66dbc6ad269",
      "metadata": {
        "id": "1027a66dbc6ad269"
      },
      "source": [
        "## Chatbot web app"
      ]
    },
    {
      "cell_type": "markdown",
      "id": "da850f98d7f9153c",
      "metadata": {
        "id": "da850f98d7f9153c"
      },
      "source": [
        "Using the gradio library, we can create a simple web app for our chatbot."
      ]
    },
    {
      "cell_type": "code",
      "execution_count": null,
      "id": "9f0bd0f0e3221528",
      "metadata": {
        "ExecuteTime": {
          "end_time": "2023-09-06T22:32:41.318222Z",
          "start_time": "2023-09-06T22:32:40.210968Z"
        },
        "id": "9f0bd0f0e3221528"
      },
      "outputs": [],
      "source": [
        "import gradio as gr"
      ]
    },
    {
      "cell_type": "code",
      "execution_count": null,
      "id": "85d51197b485d9a8",
      "metadata": {
        "ExecuteTime": {
          "end_time": "2023-09-06T22:32:49.917139Z",
          "start_time": "2023-09-06T22:32:41.317693Z"
        },
        "id": "85d51197b485d9a8"
      },
      "outputs": [],
      "source": [
        "gr.ChatInterface(\n",
        "    chat,\n",
        "    chatbot=gr.Chatbot(),\n",
        "    title=\"Welcome to the AI Summit chatbot\",\n",
        "    description=\"Ask me a question about the event...\",\n",
        "    theme=\"monochrome\",\n",
        "    examples=['how much does it cost?', 'what is the date of the event?',\n",
        "              'what is the name of the venue?']\n",
        ").launch(share=True)"
      ]
    }
  ],
  "metadata": {
    "kernelspec": {
      "display_name": "Python 3 (ipykernel)",
      "language": "python",
      "name": "python3"
    },
    "language_info": {
      "codemirror_mode": {
        "name": "ipython",
        "version": 3
      },
      "file_extension": ".py",
      "mimetype": "text/x-python",
      "name": "python",
      "nbconvert_exporter": "python",
      "pygments_lexer": "ipython3",
      "version": "3.11.3"
    },
    "colab": {
      "provenance": [],
      "include_colab_link": true
    }
  },
  "nbformat": 4,
  "nbformat_minor": 5
}