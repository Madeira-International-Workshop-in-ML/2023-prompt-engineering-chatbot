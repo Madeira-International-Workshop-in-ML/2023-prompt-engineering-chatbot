{
 "cells": [
  {
   "cell_type": "markdown",
   "id": "5f60d9bb1bc5cdcd",
   "metadata": {},
   "source": [
    "# Chatbot with OpenAI\n",
    "\n",
    "In this notebook, we are going to implement, step-by-step, a chatbot using the OpenAI API.\n",
    "\n",
    "Let's start by installing the required libraries."
   ]
  },
  {
   "cell_type": "code",
   "execution_count": 3,
   "outputs": [
    {
     "name": "stdout",
     "output_type": "stream",
     "text": [
      "Requirement already satisfied: openai in /Users/diogonunofreitas/anaconda3/lib/python3.11/site-packages (0.27.4)\r\n",
      "Requirement already satisfied: requests>=2.20 in /Users/diogonunofreitas/anaconda3/lib/python3.11/site-packages (from openai) (2.31.0)\r\n",
      "Requirement already satisfied: tqdm in /Users/diogonunofreitas/anaconda3/lib/python3.11/site-packages (from openai) (4.65.0)\r\n",
      "Requirement already satisfied: aiohttp in /Users/diogonunofreitas/anaconda3/lib/python3.11/site-packages (from openai) (3.8.3)\r\n",
      "Requirement already satisfied: charset-normalizer<4,>=2 in /Users/diogonunofreitas/anaconda3/lib/python3.11/site-packages (from requests>=2.20->openai) (2.0.4)\r\n",
      "Requirement already satisfied: idna<4,>=2.5 in /Users/diogonunofreitas/anaconda3/lib/python3.11/site-packages (from requests>=2.20->openai) (3.4)\r\n",
      "Requirement already satisfied: urllib3<3,>=1.21.1 in /Users/diogonunofreitas/anaconda3/lib/python3.11/site-packages (from requests>=2.20->openai) (1.26.16)\r\n",
      "Requirement already satisfied: certifi>=2017.4.17 in /Users/diogonunofreitas/anaconda3/lib/python3.11/site-packages (from requests>=2.20->openai) (2023.7.22)\r\n",
      "Requirement already satisfied: attrs>=17.3.0 in /Users/diogonunofreitas/anaconda3/lib/python3.11/site-packages (from aiohttp->openai) (22.1.0)\r\n",
      "Requirement already satisfied: multidict<7.0,>=4.5 in /Users/diogonunofreitas/anaconda3/lib/python3.11/site-packages (from aiohttp->openai) (6.0.2)\r\n",
      "Requirement already satisfied: async-timeout<5.0,>=4.0.0a3 in /Users/diogonunofreitas/anaconda3/lib/python3.11/site-packages (from aiohttp->openai) (4.0.2)\r\n",
      "Requirement already satisfied: yarl<2.0,>=1.0 in /Users/diogonunofreitas/anaconda3/lib/python3.11/site-packages (from aiohttp->openai) (1.8.1)\r\n",
      "Requirement already satisfied: frozenlist>=1.1.1 in /Users/diogonunofreitas/anaconda3/lib/python3.11/site-packages (from aiohttp->openai) (1.3.3)\r\n",
      "Requirement already satisfied: aiosignal>=1.1.2 in /Users/diogonunofreitas/anaconda3/lib/python3.11/site-packages (from aiohttp->openai) (1.2.0)\r\n",
      "Requirement already satisfied: gradio in /Users/diogonunofreitas/anaconda3/lib/python3.11/site-packages (3.42.0)\r\n",
      "Requirement already satisfied: aiofiles<24.0,>=22.0 in /Users/diogonunofreitas/anaconda3/lib/python3.11/site-packages (from gradio) (23.1.0)\r\n",
      "Requirement already satisfied: altair<6.0,>=4.2.0 in /Users/diogonunofreitas/anaconda3/lib/python3.11/site-packages (from gradio) (5.1.1)\r\n",
      "Requirement already satisfied: fastapi in /Users/diogonunofreitas/anaconda3/lib/python3.11/site-packages (from gradio) (0.96.1)\r\n",
      "Requirement already satisfied: ffmpy in /Users/diogonunofreitas/anaconda3/lib/python3.11/site-packages (from gradio) (0.3.0)\r\n",
      "Requirement already satisfied: gradio-client==0.5.0 in /Users/diogonunofreitas/anaconda3/lib/python3.11/site-packages (from gradio) (0.5.0)\r\n",
      "Requirement already satisfied: httpx in /Users/diogonunofreitas/anaconda3/lib/python3.11/site-packages (from gradio) (0.24.1)\r\n",
      "Requirement already satisfied: huggingface-hub>=0.14.0 in /Users/diogonunofreitas/anaconda3/lib/python3.11/site-packages (from gradio) (0.15.1)\r\n",
      "Requirement already satisfied: importlib-resources<7.0,>=1.3 in /Users/diogonunofreitas/anaconda3/lib/python3.11/site-packages (from gradio) (6.0.1)\r\n",
      "Requirement already satisfied: jinja2<4.0 in /Users/diogonunofreitas/anaconda3/lib/python3.11/site-packages (from gradio) (3.1.2)\r\n",
      "Requirement already satisfied: markupsafe~=2.0 in /Users/diogonunofreitas/anaconda3/lib/python3.11/site-packages (from gradio) (2.1.1)\r\n",
      "Requirement already satisfied: matplotlib~=3.0 in /Users/diogonunofreitas/anaconda3/lib/python3.11/site-packages (from gradio) (3.7.1)\r\n",
      "Requirement already satisfied: numpy~=1.0 in /Users/diogonunofreitas/anaconda3/lib/python3.11/site-packages (from gradio) (1.24.3)\r\n",
      "Requirement already satisfied: orjson~=3.0 in /Users/diogonunofreitas/anaconda3/lib/python3.11/site-packages (from gradio) (3.8.8)\r\n",
      "Requirement already satisfied: packaging in /Users/diogonunofreitas/anaconda3/lib/python3.11/site-packages (from gradio) (23.0)\r\n",
      "Requirement already satisfied: pandas<3.0,>=1.0 in /Users/diogonunofreitas/anaconda3/lib/python3.11/site-packages (from gradio) (1.5.3)\r\n",
      "Requirement already satisfied: pillow<11.0,>=8.0 in /Users/diogonunofreitas/anaconda3/lib/python3.11/site-packages (from gradio) (9.4.0)\r\n",
      "Requirement already satisfied: pydantic!=1.8,!=1.8.1,!=2.0.0,!=2.0.1,<3.0.0,>=1.7.4 in /Users/diogonunofreitas/anaconda3/lib/python3.11/site-packages (from gradio) (1.10.8)\r\n",
      "Requirement already satisfied: pydub in /Users/diogonunofreitas/anaconda3/lib/python3.11/site-packages (from gradio) (0.25.1)\r\n",
      "Requirement already satisfied: python-multipart in /Users/diogonunofreitas/anaconda3/lib/python3.11/site-packages (from gradio) (0.0.6)\r\n",
      "Requirement already satisfied: pyyaml<7.0,>=5.0 in /Users/diogonunofreitas/anaconda3/lib/python3.11/site-packages (from gradio) (6.0)\r\n",
      "Requirement already satisfied: requests~=2.0 in /Users/diogonunofreitas/anaconda3/lib/python3.11/site-packages (from gradio) (2.31.0)\r\n",
      "Requirement already satisfied: semantic-version~=2.0 in /Users/diogonunofreitas/anaconda3/lib/python3.11/site-packages (from gradio) (2.10.0)\r\n",
      "Requirement already satisfied: typing-extensions~=4.0 in /Users/diogonunofreitas/anaconda3/lib/python3.11/site-packages (from gradio) (4.5.0)\r\n",
      "Requirement already satisfied: uvicorn>=0.14.0 in /Users/diogonunofreitas/anaconda3/lib/python3.11/site-packages (from gradio) (0.20.0)\r\n",
      "Requirement already satisfied: websockets<12.0,>=10.0 in /Users/diogonunofreitas/anaconda3/lib/python3.11/site-packages (from gradio) (10.4)\r\n",
      "Requirement already satisfied: fsspec in /Users/diogonunofreitas/anaconda3/lib/python3.11/site-packages (from gradio-client==0.5.0->gradio) (2023.4.0)\r\n",
      "Requirement already satisfied: jsonschema>=3.0 in /Users/diogonunofreitas/anaconda3/lib/python3.11/site-packages (from altair<6.0,>=4.2.0->gradio) (4.17.3)\r\n",
      "Requirement already satisfied: toolz in /Users/diogonunofreitas/anaconda3/lib/python3.11/site-packages (from altair<6.0,>=4.2.0->gradio) (0.12.0)\r\n",
      "Requirement already satisfied: filelock in /Users/diogonunofreitas/anaconda3/lib/python3.11/site-packages (from huggingface-hub>=0.14.0->gradio) (3.9.0)\r\n",
      "Requirement already satisfied: tqdm>=4.42.1 in /Users/diogonunofreitas/anaconda3/lib/python3.11/site-packages (from huggingface-hub>=0.14.0->gradio) (4.65.0)\r\n",
      "Requirement already satisfied: contourpy>=1.0.1 in /Users/diogonunofreitas/anaconda3/lib/python3.11/site-packages (from matplotlib~=3.0->gradio) (1.0.5)\r\n",
      "Requirement already satisfied: cycler>=0.10 in /Users/diogonunofreitas/anaconda3/lib/python3.11/site-packages (from matplotlib~=3.0->gradio) (0.11.0)\r\n",
      "Requirement already satisfied: fonttools>=4.22.0 in /Users/diogonunofreitas/anaconda3/lib/python3.11/site-packages (from matplotlib~=3.0->gradio) (4.25.0)\r\n",
      "Requirement already satisfied: kiwisolver>=1.0.1 in /Users/diogonunofreitas/anaconda3/lib/python3.11/site-packages (from matplotlib~=3.0->gradio) (1.4.4)\r\n",
      "Requirement already satisfied: pyparsing>=2.3.1 in /Users/diogonunofreitas/anaconda3/lib/python3.11/site-packages (from matplotlib~=3.0->gradio) (3.0.9)\r\n",
      "Requirement already satisfied: python-dateutil>=2.7 in /Users/diogonunofreitas/anaconda3/lib/python3.11/site-packages (from matplotlib~=3.0->gradio) (2.8.2)\r\n",
      "Requirement already satisfied: pytz>=2020.1 in /Users/diogonunofreitas/anaconda3/lib/python3.11/site-packages (from pandas<3.0,>=1.0->gradio) (2022.7)\r\n",
      "Requirement already satisfied: charset-normalizer<4,>=2 in /Users/diogonunofreitas/anaconda3/lib/python3.11/site-packages (from requests~=2.0->gradio) (2.0.4)\r\n",
      "Requirement already satisfied: idna<4,>=2.5 in /Users/diogonunofreitas/anaconda3/lib/python3.11/site-packages (from requests~=2.0->gradio) (3.4)\r\n",
      "Requirement already satisfied: urllib3<3,>=1.21.1 in /Users/diogonunofreitas/anaconda3/lib/python3.11/site-packages (from requests~=2.0->gradio) (1.26.16)\r\n",
      "Requirement already satisfied: certifi>=2017.4.17 in /Users/diogonunofreitas/anaconda3/lib/python3.11/site-packages (from requests~=2.0->gradio) (2023.7.22)\r\n",
      "Requirement already satisfied: click>=7.0 in /Users/diogonunofreitas/anaconda3/lib/python3.11/site-packages (from uvicorn>=0.14.0->gradio) (8.0.4)\r\n",
      "Requirement already satisfied: h11>=0.8 in /Users/diogonunofreitas/anaconda3/lib/python3.11/site-packages (from uvicorn>=0.14.0->gradio) (0.14.0)\r\n",
      "Requirement already satisfied: starlette<0.28.0,>=0.27.0 in /Users/diogonunofreitas/anaconda3/lib/python3.11/site-packages (from fastapi->gradio) (0.27.0)\r\n",
      "Requirement already satisfied: httpcore<0.18.0,>=0.15.0 in /Users/diogonunofreitas/anaconda3/lib/python3.11/site-packages (from httpx->gradio) (0.17.3)\r\n",
      "Requirement already satisfied: sniffio in /Users/diogonunofreitas/anaconda3/lib/python3.11/site-packages (from httpx->gradio) (1.2.0)\r\n",
      "Requirement already satisfied: anyio<5.0,>=3.0 in /Users/diogonunofreitas/anaconda3/lib/python3.11/site-packages (from httpcore<0.18.0,>=0.15.0->httpx->gradio) (3.5.0)\r\n",
      "Requirement already satisfied: attrs>=17.4.0 in /Users/diogonunofreitas/anaconda3/lib/python3.11/site-packages (from jsonschema>=3.0->altair<6.0,>=4.2.0->gradio) (22.1.0)\r\n",
      "Requirement already satisfied: pyrsistent!=0.17.0,!=0.17.1,!=0.17.2,>=0.14.0 in /Users/diogonunofreitas/anaconda3/lib/python3.11/site-packages (from jsonschema>=3.0->altair<6.0,>=4.2.0->gradio) (0.18.0)\r\n",
      "Requirement already satisfied: six>=1.5 in /Users/diogonunofreitas/anaconda3/lib/python3.11/site-packages (from python-dateutil>=2.7->matplotlib~=3.0->gradio) (1.16.0)\r\n",
      "Requirement already satisfied: ipython in /Users/diogonunofreitas/anaconda3/lib/python3.11/site-packages (8.12.0)\r\n",
      "Requirement already satisfied: backcall in /Users/diogonunofreitas/anaconda3/lib/python3.11/site-packages (from ipython) (0.2.0)\r\n",
      "Requirement already satisfied: decorator in /Users/diogonunofreitas/anaconda3/lib/python3.11/site-packages (from ipython) (5.1.1)\r\n",
      "Requirement already satisfied: jedi>=0.16 in /Users/diogonunofreitas/anaconda3/lib/python3.11/site-packages (from ipython) (0.18.1)\r\n",
      "Requirement already satisfied: matplotlib-inline in /Users/diogonunofreitas/anaconda3/lib/python3.11/site-packages (from ipython) (0.1.6)\r\n",
      "Requirement already satisfied: pickleshare in /Users/diogonunofreitas/anaconda3/lib/python3.11/site-packages (from ipython) (0.7.5)\r\n",
      "Requirement already satisfied: prompt-toolkit!=3.0.37,<3.1.0,>=3.0.30 in /Users/diogonunofreitas/anaconda3/lib/python3.11/site-packages (from ipython) (3.0.36)\r\n",
      "Requirement already satisfied: pygments>=2.4.0 in /Users/diogonunofreitas/anaconda3/lib/python3.11/site-packages (from ipython) (2.15.1)\r\n",
      "Requirement already satisfied: stack-data in /Users/diogonunofreitas/anaconda3/lib/python3.11/site-packages (from ipython) (0.2.0)\r\n",
      "Requirement already satisfied: traitlets>=5 in /Users/diogonunofreitas/anaconda3/lib/python3.11/site-packages (from ipython) (5.7.1)\r\n",
      "Requirement already satisfied: pexpect>4.3 in /Users/diogonunofreitas/anaconda3/lib/python3.11/site-packages (from ipython) (4.8.0)\r\n",
      "Requirement already satisfied: appnope in /Users/diogonunofreitas/anaconda3/lib/python3.11/site-packages (from ipython) (0.1.2)\r\n",
      "Requirement already satisfied: parso<0.9.0,>=0.8.0 in /Users/diogonunofreitas/anaconda3/lib/python3.11/site-packages (from jedi>=0.16->ipython) (0.8.3)\r\n",
      "Requirement already satisfied: ptyprocess>=0.5 in /Users/diogonunofreitas/anaconda3/lib/python3.11/site-packages (from pexpect>4.3->ipython) (0.7.0)\r\n",
      "Requirement already satisfied: wcwidth in /Users/diogonunofreitas/anaconda3/lib/python3.11/site-packages (from prompt-toolkit!=3.0.37,<3.1.0,>=3.0.30->ipython) (0.2.5)\r\n",
      "Requirement already satisfied: executing in /Users/diogonunofreitas/anaconda3/lib/python3.11/site-packages (from stack-data->ipython) (0.8.3)\r\n",
      "Requirement already satisfied: asttokens in /Users/diogonunofreitas/anaconda3/lib/python3.11/site-packages (from stack-data->ipython) (2.0.5)\r\n",
      "Requirement already satisfied: pure-eval in /Users/diogonunofreitas/anaconda3/lib/python3.11/site-packages (from stack-data->ipython) (0.2.2)\r\n",
      "Requirement already satisfied: six in /Users/diogonunofreitas/anaconda3/lib/python3.11/site-packages (from asttokens->stack-data->ipython) (1.16.0)\r\n"
     ]
    }
   ],
   "source": [
    "!pip install openai\n",
    "!pip install gradio\n",
    "!pip install ipython"
   ],
   "metadata": {
    "collapsed": false,
    "ExecuteTime": {
     "end_time": "2023-09-06T22:32:15.436590Z",
     "start_time": "2023-09-06T22:32:05.595091Z"
    }
   },
   "id": "8d6c5505326f0f54"
  },
  {
   "cell_type": "code",
   "execution_count": 4,
   "id": "25f2546d32227172",
   "metadata": {
    "ExecuteTime": {
     "end_time": "2023-09-06T22:32:15.452382Z",
     "start_time": "2023-09-06T22:32:15.438227Z"
    }
   },
   "outputs": [],
   "source": [
    "from IPython.display import Markdown, display\n",
    "\n",
    "\n",
    "# Helper function to display markdown content in the notebook\n",
    "def printmd(string):\n",
    "    display(Markdown(string))"
   ]
  },
  {
   "cell_type": "markdown",
   "id": "b20f04de903b364f",
   "metadata": {},
   "source": [
    "## Load the environment variables\n",
    "\n",
    "This step is similiar to what we implemented in the previous notebook. We will load the environment variables from the `.env` file."
   ]
  },
  {
   "cell_type": "code",
   "execution_count": 5,
   "id": "5406f4849ce6891e",
   "metadata": {
    "ExecuteTime": {
     "end_time": "2023-09-06T22:32:15.452555Z",
     "start_time": "2023-09-06T22:32:15.441031Z"
    }
   },
   "outputs": [],
   "source": [
    "from dotenv import load_dotenv"
   ]
  },
  {
   "cell_type": "code",
   "execution_count": 6,
   "id": "ab1064995cb43e5b",
   "metadata": {
    "ExecuteTime": {
     "end_time": "2023-09-06T22:32:15.452615Z",
     "start_time": "2023-09-06T22:32:15.447097Z"
    }
   },
   "outputs": [],
   "source": [
    "_ = load_dotenv('.env')"
   ]
  },
  {
   "cell_type": "markdown",
   "id": "a13eb2b86ecbf7fc",
   "metadata": {},
   "source": [
    "Now, let's load the OpenAI library, and set our API key."
   ]
  },
  {
   "cell_type": "code",
   "execution_count": 7,
   "id": "2e42271c720beadc",
   "metadata": {
    "ExecuteTime": {
     "end_time": "2023-09-06T22:32:16.437718Z",
     "start_time": "2023-09-06T22:32:15.451658Z"
    }
   },
   "outputs": [],
   "source": [
    "import openai\n",
    "import os"
   ]
  },
  {
   "cell_type": "code",
   "execution_count": 8,
   "id": "a358d86877f836e4",
   "metadata": {
    "ExecuteTime": {
     "end_time": "2023-09-06T22:32:16.437967Z",
     "start_time": "2023-09-06T22:32:16.415870Z"
    }
   },
   "outputs": [],
   "source": [
    "openai.api_key = os.getenv('OPENAI_API_KEY')"
   ]
  },
  {
   "cell_type": "markdown",
   "id": "e7e81b9b2dba42",
   "metadata": {},
   "source": [
    "## Let's change the completion function\n",
    "\n",
    "We will use a different completion function, but it is very similar to the one we used in the previous notebook. We will then create a function, based on ths one, that is suitable for chatbots."
   ]
  },
  {
   "cell_type": "code",
   "execution_count": 9,
   "id": "611c014f41093895",
   "metadata": {
    "ExecuteTime": {
     "end_time": "2023-09-06T22:32:16.438042Z",
     "start_time": "2023-09-06T22:32:16.425273Z"
    }
   },
   "outputs": [],
   "source": [
    "def get_completion(messages, model=\"gpt-3.5-turbo\", temperature=0):\n",
    "    \"\"\"\n",
    "    Get the completion from OpenAI API.\n",
    "    :param messages: the messages to be sent to the chatbot\n",
    "    :param model: the model to be used\n",
    "    :param temperature: the temperature of the completion\n",
    "    :return: the completion\n",
    "    \"\"\"\n",
    "    response = openai.ChatCompletion.create(\n",
    "        model=model,\n",
    "        messages=messages,\n",
    "        temperature=temperature\n",
    "    )\n",
    "    completion = response.choices[0].message[\"content\"]\n",
    "    return completion"
   ]
  },
  {
   "cell_type": "markdown",
   "id": "6f23e94a152fdd3d",
   "metadata": {},
   "source": [
    "## Roles\n",
    "\n",
    "In OpenAI API, we can define the roles of the agents in the conversation. \n",
    "\n",
    "In our case, we will have three roles: `system`, `user`, and `assistant`. The `system` role is used to set the behaviour of the chatbot (i.e., the  personality). The `user` role is the user that is interacting with the chatbot.  The `assistant` role is the chatbot itself, i.e., the chat model.\n",
    "\n",
    "In ChatGPT web interface, your messages are the `user` messages, and then ChatGPT's are the `assistant` messages. "
   ]
  },
  {
   "cell_type": "code",
   "execution_count": 10,
   "id": "5a3a21df238eeb66",
   "metadata": {
    "ExecuteTime": {
     "end_time": "2023-09-06T22:32:18.919994Z",
     "start_time": "2023-09-06T22:32:16.429694Z"
    }
   },
   "outputs": [
    {
     "data": {
      "text/plain": "<IPython.core.display.Markdown object>",
      "text/markdown": "An artificial neural network is a computer system that learns and makes decisions by mimicking the structure and function of the human brain. It consists of interconnected nodes, or \"neurons,\" that process and transmit information to solve complex problems."
     },
     "metadata": {},
     "output_type": "display_data"
    }
   ],
   "source": [
    "messages = [\n",
    "    {\"role\": \"system\", \"content\": \"You are a teacher...\"},\n",
    "    {\"role\": \"user\",\n",
    "     \"content\": \"Explain how an artificial neural network works. Don't use more than 50 words.\"}\n",
    "]\n",
    "\n",
    "printmd(get_completion(messages))"
   ]
  },
  {
   "cell_type": "markdown",
   "id": "1936f08abc8b2295",
   "metadata": {},
   "source": [
    "_**Do it your self:**_ Try to change the `system` message to something else, and see how the chatbot behaves."
   ]
  },
  {
   "cell_type": "code",
   "execution_count": 11,
   "id": "8604937d1286b876",
   "metadata": {
    "ExecuteTime": {
     "end_time": "2023-09-06T22:32:20.883635Z",
     "start_time": "2023-09-06T22:32:18.919472Z"
    }
   },
   "outputs": [
    {
     "data": {
      "text/plain": "<IPython.core.display.Markdown object>",
      "text/markdown": "An artificial neural network is like a brain made by computers. It has lots of tiny parts called neurons that work together to solve problems. It learns by getting examples and adjusting its connections. It's really smart!"
     },
     "metadata": {},
     "output_type": "display_data"
    }
   ],
   "source": [
    "messages = [\n",
    "    {\"role\": \"system\", \"content\": \"You are a children...\"},\n",
    "    {\"role\": \"user\",\n",
    "     \"content\": \"Explain how an artificial neural network works. Don't use more than 50 words.\"}\n",
    "]\n",
    "\n",
    "printmd(get_completion(messages))"
   ]
  },
  {
   "cell_type": "markdown",
   "id": "8260ee5ef798affe",
   "metadata": {},
   "source": [
    "_**Do it your self:**_ Now, stop here and think how can we continue the conversation. I.e., how can we make the chatbot continuing the conversation? How can the chatbot understand the context of the conversation.?"
   ]
  },
  {
   "cell_type": "code",
   "execution_count": 12,
   "id": "cd20e25d9a37fb9a",
   "metadata": {
    "ExecuteTime": {
     "end_time": "2023-09-06T22:32:24.009816Z",
     "start_time": "2023-09-06T22:32:20.886271Z"
    }
   },
   "outputs": [
    {
     "data": {
      "text/plain": "<IPython.core.display.Markdown object>",
      "text/markdown": "Sure! Neurons in an artificial neural network are like little decision-makers. They take in information from other neurons, process it, and then decide whether to send a signal to the next neuron or not. They do this by using mathematical functions that help them make decisions based on the input they receive. These functions can be simple or complex, depending on the task the neural network is trying to solve."
     },
     "metadata": {},
     "output_type": "display_data"
    }
   ],
   "source": [
    "messages = [\n",
    "    {\"role\": \"system\", \"content\": \"You are a children...\"},\n",
    "    {\"role\": \"user\",\n",
    "     \"content\": \"Explain how an artificial neural network works. Don't use more than 50 words.\"},\n",
    "    {\"role\": \"assistant\",\n",
    "     \"content\": \"An artificial neural network is like a brain made by computers. It has lots of tiny parts called neurons that work together to solve problems. It learns by practicing and adjusting its connections until it gets better at what it does.\"},\n",
    "    {\"role\": \"user\",\n",
    "     \"content\": \"Can you give me more information about the functions of the neurons.\"}\n",
    "]\n",
    "\n",
    "printmd(get_completion(messages))"
   ]
  },
  {
   "cell_type": "markdown",
   "id": "405b65fcfe5be775",
   "metadata": {},
   "source": [
    "At this point, we can see what we need to do to make the chatbot continuing the conversation. We need to keep track of the conversation, and then use the last message to generate the next one. I.e., we need to keep track of the context of the conversation by storing the messages from the `user` and the `assistant`."
   ]
  },
  {
   "cell_type": "code",
   "execution_count": 13,
   "id": "18d7f576974a1434",
   "metadata": {
    "ExecuteTime": {
     "end_time": "2023-09-06T22:32:24.017063Z",
     "start_time": "2023-09-06T22:32:24.010941Z"
    }
   },
   "outputs": [],
   "source": [
    "context = [\n",
    "    {\"role\": \"system\", \"content\": \"You are an assitant...\"}\n",
    "]"
   ]
  },
  {
   "cell_type": "code",
   "execution_count": 14,
   "id": "e5492ab7c49f0ea1",
   "metadata": {
    "ExecuteTime": {
     "end_time": "2023-09-06T22:32:24.018268Z",
     "start_time": "2023-09-06T22:32:24.014523Z"
    }
   },
   "outputs": [],
   "source": [
    "def chat(prompt, history=None):\n",
    "    context.append({\"role\": \"assistant\", \"content\": prompt})\n",
    "    completion = get_completion(context)\n",
    "    context.append(\n",
    "        {\"role\": \"assistant\", \"content\": completion})\n",
    "    return completion"
   ]
  },
  {
   "cell_type": "code",
   "execution_count": 15,
   "id": "a94aa5fd7d45ce5a",
   "metadata": {
    "ExecuteTime": {
     "end_time": "2023-09-06T22:32:26.205537Z",
     "start_time": "2023-09-06T22:32:24.019518Z"
    }
   },
   "outputs": [
    {
     "data": {
      "text/plain": "<IPython.core.display.Markdown object>",
      "text/markdown": "An artificial neural network is a computational model inspired by the structure and function of the human brain. It consists of interconnected nodes, or \"neurons,\" that process and transmit information. Through a process of learning and adjustment, the network can recognize patterns and make predictions."
     },
     "metadata": {},
     "output_type": "display_data"
    }
   ],
   "source": [
    "printmd(chat(\n",
    "    \"Explain how an artificial neural network works. Don't use more than 50 words.\"))"
   ]
  },
  {
   "cell_type": "code",
   "execution_count": 16,
   "id": "dfecaa25c557f9ce",
   "metadata": {
    "ExecuteTime": {
     "end_time": "2023-09-06T22:32:28.504909Z",
     "start_time": "2023-09-06T22:32:26.210385Z"
    }
   },
   "outputs": [
    {
     "data": {
      "text/plain": "<IPython.core.display.Markdown object>",
      "text/markdown": "An artificial neural network is a computational model that mimics the structure and function of the human brain. It consists of interconnected nodes, or \"neurons,\" that process and transmit information. By learning from data, the network can recognize patterns and make predictions."
     },
     "metadata": {},
     "output_type": "display_data"
    }
   ],
   "source": [
    "printmd(chat(\"Hum... it's still not very clear.\"))\n"
   ]
  },
  {
   "cell_type": "code",
   "execution_count": 17,
   "id": "eafc69b2d6234771",
   "metadata": {
    "ExecuteTime": {
     "end_time": "2023-09-06T22:32:31.433440Z",
     "start_time": "2023-09-06T22:32:28.483158Z"
    }
   },
   "outputs": [
    {
     "data": {
      "text/plain": "<IPython.core.display.Markdown object>",
      "text/markdown": "Certainly! In an artificial neural network, each neuron performs a simple mathematical operation on the input it receives. This operation typically involves multiplying the input by a weight, summing up the weighted inputs, and applying an activation function to determine the output of the neuron. The activation function introduces non-linearity to the network, allowing it to learn complex patterns and make more accurate predictions."
     },
     "metadata": {},
     "output_type": "display_data"
    }
   ],
   "source": [
    "printmd(chat(\n",
    "    \"Can you give me more information about the functions of the neurons.\"))"
   ]
  },
  {
   "cell_type": "markdown",
   "id": "417566cbb37b88a5",
   "metadata": {},
   "source": [
    "## Real-world example\n",
    "\n",
    "In this example, we are going to read a text file with the information about the AI summit, and then use the chatbot to answer questions about the text."
   ]
  },
  {
   "cell_type": "code",
   "execution_count": 18,
   "id": "e2b9af2051f51da4",
   "metadata": {
    "ExecuteTime": {
     "end_time": "2023-09-06T22:32:31.451847Z",
     "start_time": "2023-09-06T22:32:31.434288Z"
    }
   },
   "outputs": [],
   "source": [
    "with open('info.md', 'r') as file:\n",
    "    event_info = file.read()"
   ]
  },
  {
   "cell_type": "code",
   "execution_count": 19,
   "id": "d8caf53b510a7b6",
   "metadata": {
    "ExecuteTime": {
     "end_time": "2023-09-06T22:32:31.452154Z",
     "start_time": "2023-09-06T22:32:31.437816Z"
    }
   },
   "outputs": [],
   "source": [
    "context = [\n",
    "    {\"role\": \"system\",\n",
    "     \"content\": \"You are an organizer of the event, and you only reply to questions related to the event. Here is everything you need to know about the event: ```\" + event_info + \"```\"}\n",
    "]"
   ]
  },
  {
   "cell_type": "code",
   "execution_count": 20,
   "id": "db0b4f58afd49c39",
   "metadata": {
    "ExecuteTime": {
     "end_time": "2023-09-06T22:32:32.350178Z",
     "start_time": "2023-09-06T22:32:31.440291Z"
    }
   },
   "outputs": [
    {
     "data": {
      "text/plain": "<IPython.core.display.Markdown object>",
      "text/markdown": "The name of the event is the AI Summit."
     },
     "metadata": {},
     "output_type": "display_data"
    }
   ],
   "source": [
    "printmd(chat(\"What is the name of the event?\"))"
   ]
  },
  {
   "cell_type": "code",
   "execution_count": 21,
   "id": "ea9ba6bbe3504cd5",
   "metadata": {
    "ExecuteTime": {
     "end_time": "2023-09-06T22:32:33.303419Z",
     "start_time": "2023-09-06T22:32:32.301975Z"
    }
   },
   "outputs": [
    {
     "data": {
      "text/plain": "<IPython.core.display.Markdown object>",
      "text/markdown": "The AI Summit will take place on September 13, 2023."
     },
     "metadata": {},
     "output_type": "display_data"
    }
   ],
   "source": [
    "printmd(chat(\"What is the date of the event?\"))"
   ]
  },
  {
   "cell_type": "code",
   "execution_count": 22,
   "id": "dd34b1c9a96a301",
   "metadata": {
    "ExecuteTime": {
     "end_time": "2023-09-06T22:32:35.354153Z",
     "start_time": "2023-09-06T22:32:33.296559Z"
    }
   },
   "outputs": [
    {
     "data": {
      "text/plain": "<IPython.core.display.Markdown object>",
      "text/markdown": "The names of the speakers are:\n\n- João Santos from Microsoft\n- David Jardim from Oracle\n- Eliano Marques from Tracer\n- Adi Mazor Kario from Invincible Innovation"
     },
     "metadata": {},
     "output_type": "display_data"
    }
   ],
   "source": [
    "printmd(chat(\"What are the names of the speakers?\"))"
   ]
  },
  {
   "cell_type": "code",
   "execution_count": 23,
   "id": "303e0244124fbbe5",
   "metadata": {
    "ExecuteTime": {
     "end_time": "2023-09-06T22:32:36.335638Z",
     "start_time": "2023-09-06T22:32:35.356377Z"
    }
   },
   "outputs": [
    {
     "data": {
      "text/plain": "<IPython.core.display.Markdown object>",
      "text/markdown": "The event will take place at Museu da Imprensa, the Press Museum."
     },
     "metadata": {},
     "output_type": "display_data"
    }
   ],
   "source": [
    "printmd(chat(\"What is the name of the venue?\"))"
   ]
  },
  {
   "cell_type": "code",
   "execution_count": 24,
   "id": "2edafa931aa9bc57",
   "metadata": {
    "ExecuteTime": {
     "end_time": "2023-09-06T22:32:37.034377Z",
     "start_time": "2023-09-06T22:32:36.337803Z"
    }
   },
   "outputs": [
    {
     "data": {
      "text/plain": "<IPython.core.display.Markdown object>",
      "text/markdown": "Yes, registration for the event is free."
     },
     "metadata": {},
     "output_type": "display_data"
    }
   ],
   "source": [
    "printmd(chat(\"Is the event free?\"))"
   ]
  },
  {
   "cell_type": "code",
   "execution_count": 25,
   "id": "31f809355c6cc81b",
   "metadata": {
    "ExecuteTime": {
     "end_time": "2023-09-06T22:32:39.085830Z",
     "start_time": "2023-09-06T22:32:37.036209Z"
    }
   },
   "outputs": [
    {
     "data": {
      "text/plain": "<IPython.core.display.Markdown object>",
      "text/markdown": "Yes, the AI Summit is open to everyone, including beginners in AI. It is designed for professionals, researchers, students, entrepreneurs, technology fans, industry experts, government officials, and anyone else interested in Artificial Intelligence."
     },
     "metadata": {},
     "output_type": "display_data"
    }
   ],
   "source": [
    "printmd(chat(\"Is it suitable for beginners in AI?\"))"
   ]
  },
  {
   "cell_type": "code",
   "execution_count": 26,
   "id": "a5a07088313e2e91",
   "metadata": {
    "ExecuteTime": {
     "end_time": "2023-09-06T22:32:40.218135Z",
     "start_time": "2023-09-06T22:32:39.084448Z"
    }
   },
   "outputs": [
    {
     "data": {
      "text/plain": "<IPython.core.display.Markdown object>",
      "text/markdown": "The coffee break will take place at 16:00 during the event."
     },
     "metadata": {},
     "output_type": "display_data"
    }
   ],
   "source": [
    "printmd(chat(\"When is the coffee break?\"))"
   ]
  },
  {
   "cell_type": "markdown",
   "id": "1027a66dbc6ad269",
   "metadata": {},
   "source": [
    "## Chatbot web app"
   ]
  },
  {
   "cell_type": "markdown",
   "id": "da850f98d7f9153c",
   "metadata": {},
   "source": [
    "Using the gradio library, we can create a simple web app for our chatbot."
   ]
  },
  {
   "cell_type": "code",
   "execution_count": 27,
   "id": "9f0bd0f0e3221528",
   "metadata": {
    "ExecuteTime": {
     "end_time": "2023-09-06T22:32:41.318222Z",
     "start_time": "2023-09-06T22:32:40.210968Z"
    }
   },
   "outputs": [],
   "source": [
    "import gradio as gr"
   ]
  },
  {
   "cell_type": "code",
   "execution_count": 28,
   "id": "85d51197b485d9a8",
   "metadata": {
    "ExecuteTime": {
     "end_time": "2023-09-06T22:32:49.917139Z",
     "start_time": "2023-09-06T22:32:41.317693Z"
    }
   },
   "outputs": [
    {
     "name": "stdout",
     "output_type": "stream",
     "text": [
      "Running on local URL:  http://127.0.0.1:7862\n",
      "Running on public URL: https://085a752ba0154324fd.gradio.live\n",
      "\n",
      "This share link expires in 72 hours. For free permanent hosting and GPU upgrades, run `gradio deploy` from Terminal to deploy to Spaces (https://huggingface.co/spaces)\n"
     ]
    },
    {
     "data": {
      "text/plain": "<IPython.core.display.HTML object>",
      "text/html": "<div><iframe src=\"https://085a752ba0154324fd.gradio.live\" width=\"100%\" height=\"500\" allow=\"autoplay; camera; microphone; clipboard-read; clipboard-write;\" frameborder=\"0\" allowfullscreen></iframe></div>"
     },
     "metadata": {},
     "output_type": "display_data"
    },
    {
     "data": {
      "text/plain": ""
     },
     "execution_count": 28,
     "metadata": {},
     "output_type": "execute_result"
    }
   ],
   "source": [
    "gr.ChatInterface(\n",
    "    chat,\n",
    "    chatbot=gr.Chatbot(),\n",
    "    title=\"Welcome to the AI Summit chatbot\",\n",
    "    description=\"Ask me a question about the event...\",\n",
    "    theme=\"monochrome\",\n",
    "    examples=['how much does it cost?', 'what is the date of the event?',\n",
    "              'what is the name of the venue?']\n",
    ").launch(share=True)\n"
   ]
  }
 ],
 "metadata": {
  "kernelspec": {
   "display_name": "Python 3 (ipykernel)",
   "language": "python",
   "name": "python3"
  },
  "language_info": {
   "codemirror_mode": {
    "name": "ipython",
    "version": 3
   },
   "file_extension": ".py",
   "mimetype": "text/x-python",
   "name": "python",
   "nbconvert_exporter": "python",
   "pygments_lexer": "ipython3",
   "version": "3.11.3"
  }
 },
 "nbformat": 4,
 "nbformat_minor": 5
}
